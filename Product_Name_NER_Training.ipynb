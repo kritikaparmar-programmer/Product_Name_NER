{
  "nbformat": 4,
  "nbformat_minor": 0,
  "metadata": {
    "colab": {
      "provenance": []
    },
    "kernelspec": {
      "name": "python3",
      "display_name": "Python 3"
    },
    "language_info": {
      "name": "python"
    }
  },
  "cells": [
    {
      "cell_type": "markdown",
      "source": [
        "# Product Name Entity Recognition (NER) Model\n",
        "\n",
        "### Background\n",
        "We need to develop a Named Entity Recognition (NER) model that can automatically extract key information from product names. This will help streamline our product search functionality.\n",
        "\n",
        "### Assignment Objective\n",
        "Develop a non-LLM based Named Entity Recognition (NER) model to extract structured information from product names.\n",
        "\n",
        "\n",
        "### Required Entity Labels\n",
        "\n",
        "The model should identify and extract the following entities from product names:\n",
        "\n",
        "1. BRAND\n",
        "2. GENDER\n",
        "3. FEATURES/SPECIFICATIONS\n",
        "4. COLOR\n",
        "5. QUANTITY\n",
        "6. DIMENSIONS\n"
      ],
      "metadata": {
        "id": "cgodeY2_CgVD"
      }
    },
    {
      "cell_type": "code",
      "source": [
        "!python --version"
      ],
      "metadata": {
        "colab": {
          "base_uri": "https://localhost:8080/"
        },
        "id": "gKkUABj1aAfp",
        "outputId": "6eea975a-8ece-4453-da17-3626e7e421f8"
      },
      "execution_count": 1,
      "outputs": [
        {
          "output_type": "stream",
          "name": "stdout",
          "text": [
            "Python 3.10.12\n"
          ]
        }
      ]
    },
    {
      "cell_type": "markdown",
      "source": [
        "#### Importing Libraries\n"
      ],
      "metadata": {
        "id": "kyxJpgPzGyO-"
      }
    },
    {
      "cell_type": "code",
      "source": [
        "import json\n",
        "import pandas as pd\n",
        "import numpy as np\n",
        "from sklearn.model_selection import train_test_split\n",
        "import spacy\n",
        "from spacy.tokens import DocBin\n",
        "from tqdm import tqdm\n",
        "from spacy.util import minibatch, filter_spans, compounding\n",
        "from spacy.training import Example\n",
        "import random\n",
        "import matplotlib.pyplot as plt\n",
        "from sklearn.metrics import precision_recall_fscore_support\n",
        "from collections import defaultdict\n",
        "from collections import Counter"
      ],
      "metadata": {
        "id": "nBqU9iKGG7Po"
      },
      "execution_count": 2,
      "outputs": []
    },
    {
      "cell_type": "markdown",
      "source": [
        "#### Loading Data"
      ],
      "metadata": {
        "id": "ywPqYwwr-4Ec"
      }
    },
    {
      "cell_type": "code",
      "source": [
        "product_ner_data = pd.read_excel('/content/Product Name NER Assignment.xlsx')\n",
        "print(\"Shape of dataframe:\", product_ner_data.shape)\n",
        "product_ner_data.head(3)"
      ],
      "metadata": {
        "colab": {
          "base_uri": "https://localhost:8080/",
          "height": 161
        },
        "id": "q-t0P1tG-3rJ",
        "outputId": "49bcd3e3-0ab2-4991-d175-5a9b937dcd27"
      },
      "execution_count": 3,
      "outputs": [
        {
          "output_type": "stream",
          "name": "stdout",
          "text": [
            "Shape of dataframe: (299, 2)\n"
          ]
        },
        {
          "output_type": "execute_result",
          "data": {
            "text/plain": [
              "                                               title  \\\n",
              "0  kurt adler j3767 wooden nativity advent calend...   \n",
              "1  royal sovereign arp-1000e 10000-btu electronic...   \n",
              "2          delonghi pac-360 portable air conditioner   \n",
              "\n",
              "                                extracted_attributes  \n",
              "0  {\"brand\": [\"kurt adler\"], \"features_specificat...  \n",
              "1  {\"brand\": [\"royal sovereign\"], \"features_speci...  \n",
              "2  {\"brand\": [\"delonghi\"], \"features_specificatio...  "
            ],
            "text/html": [
              "\n",
              "  <div id=\"df-10845c95-2a2f-4135-8a11-dcaaacedfec8\" class=\"colab-df-container\">\n",
              "    <div>\n",
              "<style scoped>\n",
              "    .dataframe tbody tr th:only-of-type {\n",
              "        vertical-align: middle;\n",
              "    }\n",
              "\n",
              "    .dataframe tbody tr th {\n",
              "        vertical-align: top;\n",
              "    }\n",
              "\n",
              "    .dataframe thead th {\n",
              "        text-align: right;\n",
              "    }\n",
              "</style>\n",
              "<table border=\"1\" class=\"dataframe\">\n",
              "  <thead>\n",
              "    <tr style=\"text-align: right;\">\n",
              "      <th></th>\n",
              "      <th>title</th>\n",
              "      <th>extracted_attributes</th>\n",
              "    </tr>\n",
              "  </thead>\n",
              "  <tbody>\n",
              "    <tr>\n",
              "      <th>0</th>\n",
              "      <td>kurt adler j3767 wooden nativity advent calend...</td>\n",
              "      <td>{\"brand\": [\"kurt adler\"], \"features_specificat...</td>\n",
              "    </tr>\n",
              "    <tr>\n",
              "      <th>1</th>\n",
              "      <td>royal sovereign arp-1000e 10000-btu electronic...</td>\n",
              "      <td>{\"brand\": [\"royal sovereign\"], \"features_speci...</td>\n",
              "    </tr>\n",
              "    <tr>\n",
              "      <th>2</th>\n",
              "      <td>delonghi pac-360 portable air conditioner</td>\n",
              "      <td>{\"brand\": [\"delonghi\"], \"features_specificatio...</td>\n",
              "    </tr>\n",
              "  </tbody>\n",
              "</table>\n",
              "</div>\n",
              "    <div class=\"colab-df-buttons\">\n",
              "\n",
              "  <div class=\"colab-df-container\">\n",
              "    <button class=\"colab-df-convert\" onclick=\"convertToInteractive('df-10845c95-2a2f-4135-8a11-dcaaacedfec8')\"\n",
              "            title=\"Convert this dataframe to an interactive table.\"\n",
              "            style=\"display:none;\">\n",
              "\n",
              "  <svg xmlns=\"http://www.w3.org/2000/svg\" height=\"24px\" viewBox=\"0 -960 960 960\">\n",
              "    <path d=\"M120-120v-720h720v720H120Zm60-500h600v-160H180v160Zm220 220h160v-160H400v160Zm0 220h160v-160H400v160ZM180-400h160v-160H180v160Zm440 0h160v-160H620v160ZM180-180h160v-160H180v160Zm440 0h160v-160H620v160Z\"/>\n",
              "  </svg>\n",
              "    </button>\n",
              "\n",
              "  <style>\n",
              "    .colab-df-container {\n",
              "      display:flex;\n",
              "      gap: 12px;\n",
              "    }\n",
              "\n",
              "    .colab-df-convert {\n",
              "      background-color: #E8F0FE;\n",
              "      border: none;\n",
              "      border-radius: 50%;\n",
              "      cursor: pointer;\n",
              "      display: none;\n",
              "      fill: #1967D2;\n",
              "      height: 32px;\n",
              "      padding: 0 0 0 0;\n",
              "      width: 32px;\n",
              "    }\n",
              "\n",
              "    .colab-df-convert:hover {\n",
              "      background-color: #E2EBFA;\n",
              "      box-shadow: 0px 1px 2px rgba(60, 64, 67, 0.3), 0px 1px 3px 1px rgba(60, 64, 67, 0.15);\n",
              "      fill: #174EA6;\n",
              "    }\n",
              "\n",
              "    .colab-df-buttons div {\n",
              "      margin-bottom: 4px;\n",
              "    }\n",
              "\n",
              "    [theme=dark] .colab-df-convert {\n",
              "      background-color: #3B4455;\n",
              "      fill: #D2E3FC;\n",
              "    }\n",
              "\n",
              "    [theme=dark] .colab-df-convert:hover {\n",
              "      background-color: #434B5C;\n",
              "      box-shadow: 0px 1px 3px 1px rgba(0, 0, 0, 0.15);\n",
              "      filter: drop-shadow(0px 1px 2px rgba(0, 0, 0, 0.3));\n",
              "      fill: #FFFFFF;\n",
              "    }\n",
              "  </style>\n",
              "\n",
              "    <script>\n",
              "      const buttonEl =\n",
              "        document.querySelector('#df-10845c95-2a2f-4135-8a11-dcaaacedfec8 button.colab-df-convert');\n",
              "      buttonEl.style.display =\n",
              "        google.colab.kernel.accessAllowed ? 'block' : 'none';\n",
              "\n",
              "      async function convertToInteractive(key) {\n",
              "        const element = document.querySelector('#df-10845c95-2a2f-4135-8a11-dcaaacedfec8');\n",
              "        const dataTable =\n",
              "          await google.colab.kernel.invokeFunction('convertToInteractive',\n",
              "                                                    [key], {});\n",
              "        if (!dataTable) return;\n",
              "\n",
              "        const docLinkHtml = 'Like what you see? Visit the ' +\n",
              "          '<a target=\"_blank\" href=https://colab.research.google.com/notebooks/data_table.ipynb>data table notebook</a>'\n",
              "          + ' to learn more about interactive tables.';\n",
              "        element.innerHTML = '';\n",
              "        dataTable['output_type'] = 'display_data';\n",
              "        await google.colab.output.renderOutput(dataTable, element);\n",
              "        const docLink = document.createElement('div');\n",
              "        docLink.innerHTML = docLinkHtml;\n",
              "        element.appendChild(docLink);\n",
              "      }\n",
              "    </script>\n",
              "  </div>\n",
              "\n",
              "\n",
              "<div id=\"df-e58c21b3-8e0f-44c4-99eb-8d0263b1e020\">\n",
              "  <button class=\"colab-df-quickchart\" onclick=\"quickchart('df-e58c21b3-8e0f-44c4-99eb-8d0263b1e020')\"\n",
              "            title=\"Suggest charts\"\n",
              "            style=\"display:none;\">\n",
              "\n",
              "<svg xmlns=\"http://www.w3.org/2000/svg\" height=\"24px\"viewBox=\"0 0 24 24\"\n",
              "     width=\"24px\">\n",
              "    <g>\n",
              "        <path d=\"M19 3H5c-1.1 0-2 .9-2 2v14c0 1.1.9 2 2 2h14c1.1 0 2-.9 2-2V5c0-1.1-.9-2-2-2zM9 17H7v-7h2v7zm4 0h-2V7h2v10zm4 0h-2v-4h2v4z\"/>\n",
              "    </g>\n",
              "</svg>\n",
              "  </button>\n",
              "\n",
              "<style>\n",
              "  .colab-df-quickchart {\n",
              "      --bg-color: #E8F0FE;\n",
              "      --fill-color: #1967D2;\n",
              "      --hover-bg-color: #E2EBFA;\n",
              "      --hover-fill-color: #174EA6;\n",
              "      --disabled-fill-color: #AAA;\n",
              "      --disabled-bg-color: #DDD;\n",
              "  }\n",
              "\n",
              "  [theme=dark] .colab-df-quickchart {\n",
              "      --bg-color: #3B4455;\n",
              "      --fill-color: #D2E3FC;\n",
              "      --hover-bg-color: #434B5C;\n",
              "      --hover-fill-color: #FFFFFF;\n",
              "      --disabled-bg-color: #3B4455;\n",
              "      --disabled-fill-color: #666;\n",
              "  }\n",
              "\n",
              "  .colab-df-quickchart {\n",
              "    background-color: var(--bg-color);\n",
              "    border: none;\n",
              "    border-radius: 50%;\n",
              "    cursor: pointer;\n",
              "    display: none;\n",
              "    fill: var(--fill-color);\n",
              "    height: 32px;\n",
              "    padding: 0;\n",
              "    width: 32px;\n",
              "  }\n",
              "\n",
              "  .colab-df-quickchart:hover {\n",
              "    background-color: var(--hover-bg-color);\n",
              "    box-shadow: 0 1px 2px rgba(60, 64, 67, 0.3), 0 1px 3px 1px rgba(60, 64, 67, 0.15);\n",
              "    fill: var(--button-hover-fill-color);\n",
              "  }\n",
              "\n",
              "  .colab-df-quickchart-complete:disabled,\n",
              "  .colab-df-quickchart-complete:disabled:hover {\n",
              "    background-color: var(--disabled-bg-color);\n",
              "    fill: var(--disabled-fill-color);\n",
              "    box-shadow: none;\n",
              "  }\n",
              "\n",
              "  .colab-df-spinner {\n",
              "    border: 2px solid var(--fill-color);\n",
              "    border-color: transparent;\n",
              "    border-bottom-color: var(--fill-color);\n",
              "    animation:\n",
              "      spin 1s steps(1) infinite;\n",
              "  }\n",
              "\n",
              "  @keyframes spin {\n",
              "    0% {\n",
              "      border-color: transparent;\n",
              "      border-bottom-color: var(--fill-color);\n",
              "      border-left-color: var(--fill-color);\n",
              "    }\n",
              "    20% {\n",
              "      border-color: transparent;\n",
              "      border-left-color: var(--fill-color);\n",
              "      border-top-color: var(--fill-color);\n",
              "    }\n",
              "    30% {\n",
              "      border-color: transparent;\n",
              "      border-left-color: var(--fill-color);\n",
              "      border-top-color: var(--fill-color);\n",
              "      border-right-color: var(--fill-color);\n",
              "    }\n",
              "    40% {\n",
              "      border-color: transparent;\n",
              "      border-right-color: var(--fill-color);\n",
              "      border-top-color: var(--fill-color);\n",
              "    }\n",
              "    60% {\n",
              "      border-color: transparent;\n",
              "      border-right-color: var(--fill-color);\n",
              "    }\n",
              "    80% {\n",
              "      border-color: transparent;\n",
              "      border-right-color: var(--fill-color);\n",
              "      border-bottom-color: var(--fill-color);\n",
              "    }\n",
              "    90% {\n",
              "      border-color: transparent;\n",
              "      border-bottom-color: var(--fill-color);\n",
              "    }\n",
              "  }\n",
              "</style>\n",
              "\n",
              "  <script>\n",
              "    async function quickchart(key) {\n",
              "      const quickchartButtonEl =\n",
              "        document.querySelector('#' + key + ' button');\n",
              "      quickchartButtonEl.disabled = true;  // To prevent multiple clicks.\n",
              "      quickchartButtonEl.classList.add('colab-df-spinner');\n",
              "      try {\n",
              "        const charts = await google.colab.kernel.invokeFunction(\n",
              "            'suggestCharts', [key], {});\n",
              "      } catch (error) {\n",
              "        console.error('Error during call to suggestCharts:', error);\n",
              "      }\n",
              "      quickchartButtonEl.classList.remove('colab-df-spinner');\n",
              "      quickchartButtonEl.classList.add('colab-df-quickchart-complete');\n",
              "    }\n",
              "    (() => {\n",
              "      let quickchartButtonEl =\n",
              "        document.querySelector('#df-e58c21b3-8e0f-44c4-99eb-8d0263b1e020 button');\n",
              "      quickchartButtonEl.style.display =\n",
              "        google.colab.kernel.accessAllowed ? 'block' : 'none';\n",
              "    })();\n",
              "  </script>\n",
              "</div>\n",
              "\n",
              "    </div>\n",
              "  </div>\n"
            ],
            "application/vnd.google.colaboratory.intrinsic+json": {
              "type": "dataframe",
              "variable_name": "product_ner_data",
              "summary": "{\n  \"name\": \"product_ner_data\",\n  \"rows\": 299,\n  \"fields\": [\n    {\n      \"column\": \"title\",\n      \"properties\": {\n        \"dtype\": \"string\",\n        \"num_unique_values\": 288,\n        \"samples\": [\n          \"kaiser bakeware tinplate 16-by-14-inch cookie sheet\",\n          \"insulated coveralls olive drab\",\n          \"misdress jersey knit cotton duvet cover set king size dark green bedding set 3 pieces 1 duvet cover + 2 pillow cases, simple solid design, super soft and easy care\"\n        ],\n        \"semantic_type\": \"\",\n        \"description\": \"\"\n      }\n    },\n    {\n      \"column\": \"extracted_attributes\",\n      \"properties\": {\n        \"dtype\": \"string\",\n        \"num_unique_values\": 286,\n        \"samples\": [\n          \"{\\\"brand\\\": [\\\"rca\\\"], \\\"features_specifications\\\": [\\\"ant115\\\", \\\" indoor antenna\\\"]}\",\n          \"{\\\"brand\\\": [\\\"techcraft\\\"], \\\"features_specifications\\\": [\\\"dlp58x\\\", \\\" monaco series \\\", \\\"tv stand \\\", \\\"discontinued by manufacturer\\\"]}\",\n          \"{\\\"color\\\": [\\\"red\\\"], \\\"features_specifications\\\": [\\\"italian\\\", \\\" in memory of my grandpa\\\", \\\" laser \\\", \\\"charm\\\"]}\"\n        ],\n        \"semantic_type\": \"\",\n        \"description\": \"\"\n      }\n    }\n  ]\n}"
            }
          },
          "metadata": {},
          "execution_count": 3
        }
      ]
    },
    {
      "cell_type": "code",
      "source": [
        "print(product_ner_data.info())"
      ],
      "metadata": {
        "colab": {
          "base_uri": "https://localhost:8080/"
        },
        "id": "9rLXHADg_ByK",
        "outputId": "1bf9ddc6-1937-446c-ae78-18b6014a6f5f"
      },
      "execution_count": 4,
      "outputs": [
        {
          "output_type": "stream",
          "name": "stdout",
          "text": [
            "<class 'pandas.core.frame.DataFrame'>\n",
            "RangeIndex: 299 entries, 0 to 298\n",
            "Data columns (total 2 columns):\n",
            " #   Column                Non-Null Count  Dtype \n",
            "---  ------                --------------  ----- \n",
            " 0   title                 299 non-null    object\n",
            " 1   extracted_attributes  299 non-null    object\n",
            "dtypes: object(2)\n",
            "memory usage: 4.8+ KB\n",
            "None\n"
          ]
        }
      ]
    },
    {
      "cell_type": "markdown",
      "source": [
        "### Data Preprocessing\n",
        "The data consists of 299 entries, with 2 columns,  **Title** of the product, and the **Extracted Attributes** JSON which have information on **BRAND, FEATURE_SPECIFICATIONS, COLOR, QUANTITY, GENDER, DIMENSIONS**. As we need entities for NER, so let's create a new column with entities for the respective titles."
      ],
      "metadata": {
        "id": "O4GgCq77_oQy"
      }
    },
    {
      "cell_type": "markdown",
      "source": [
        "##### Creating Entities for NER model"
      ],
      "metadata": {
        "id": "Pu9P04dO_XY-"
      }
    },
    {
      "cell_type": "code",
      "source": [
        "def create_entities(row):\n",
        "\n",
        "    title = row['title'].lower()\n",
        "    entities = []\n",
        "    attributes = row['extracted_attributes']\n",
        "\n",
        "    attributes = json.loads(attributes)\n",
        "    for entity_type, values in attributes.items():\n",
        "        values = [str(v).strip().lower() for v in values]\n",
        "        for value in values:\n",
        "            if value:\n",
        "                start_idx = title.find(value)\n",
        "                end_idx = start_idx + len(value)\n",
        "                entities.append((start_idx, end_idx, entity_type))\n",
        "\n",
        "    return entities"
      ],
      "metadata": {
        "id": "lTIT4ZHJ_XM4"
      },
      "execution_count": 5,
      "outputs": []
    },
    {
      "cell_type": "code",
      "source": [
        "product_ner_data['ner_entities'] = product_ner_data.apply(create_entities, axis=1)\n",
        "product_ner_data.sample(3)"
      ],
      "metadata": {
        "colab": {
          "base_uri": "https://localhost:8080/",
          "height": 143
        },
        "id": "fhAaS3YI_hOG",
        "outputId": "3c2da78b-e9c3-4825-f87c-2482008d5751"
      },
      "execution_count": 6,
      "outputs": [
        {
          "output_type": "execute_result",
          "data": {
            "text/plain": [
              "                                                 title  \\\n",
              "67         c&amp;w petite whole beans, 14 ounce frozen   \n",
              "26   coby cx-cd375 micro stereo system with top-loa...   \n",
              "266                      mabef sketch box easel mbm-22   \n",
              "\n",
              "                                  extracted_attributes  \\\n",
              "67        {\"brand\": [\"c&w\"], \"quantity\": [\"14 ounce\"]}   \n",
              "26   {\"brand\": [\"coby\"], \"features_specifications\":...   \n",
              "266  {\"brand\": [\"mabef\"], \"features_specifications\"...   \n",
              "\n",
              "                                          ner_entities  \n",
              "67                [(-1, 2, brand), (28, 36, quantity)]  \n",
              "26   [(0, 4, brand), (5, 13, features_specification...  \n",
              "266  [(0, 5, brand), (23, 29, features_specificatio...  "
            ],
            "text/html": [
              "\n",
              "  <div id=\"df-b718a3ce-e401-4473-9e31-34d86bd8c024\" class=\"colab-df-container\">\n",
              "    <div>\n",
              "<style scoped>\n",
              "    .dataframe tbody tr th:only-of-type {\n",
              "        vertical-align: middle;\n",
              "    }\n",
              "\n",
              "    .dataframe tbody tr th {\n",
              "        vertical-align: top;\n",
              "    }\n",
              "\n",
              "    .dataframe thead th {\n",
              "        text-align: right;\n",
              "    }\n",
              "</style>\n",
              "<table border=\"1\" class=\"dataframe\">\n",
              "  <thead>\n",
              "    <tr style=\"text-align: right;\">\n",
              "      <th></th>\n",
              "      <th>title</th>\n",
              "      <th>extracted_attributes</th>\n",
              "      <th>ner_entities</th>\n",
              "    </tr>\n",
              "  </thead>\n",
              "  <tbody>\n",
              "    <tr>\n",
              "      <th>67</th>\n",
              "      <td>c&amp;amp;w petite whole beans, 14 ounce frozen</td>\n",
              "      <td>{\"brand\": [\"c&amp;w\"], \"quantity\": [\"14 ounce\"]}</td>\n",
              "      <td>[(-1, 2, brand), (28, 36, quantity)]</td>\n",
              "    </tr>\n",
              "    <tr>\n",
              "      <th>26</th>\n",
              "      <td>coby cx-cd375 micro stereo system with top-loa...</td>\n",
              "      <td>{\"brand\": [\"coby\"], \"features_specifications\":...</td>\n",
              "      <td>[(0, 4, brand), (5, 13, features_specification...</td>\n",
              "    </tr>\n",
              "    <tr>\n",
              "      <th>266</th>\n",
              "      <td>mabef sketch box easel mbm-22</td>\n",
              "      <td>{\"brand\": [\"mabef\"], \"features_specifications\"...</td>\n",
              "      <td>[(0, 5, brand), (23, 29, features_specificatio...</td>\n",
              "    </tr>\n",
              "  </tbody>\n",
              "</table>\n",
              "</div>\n",
              "    <div class=\"colab-df-buttons\">\n",
              "\n",
              "  <div class=\"colab-df-container\">\n",
              "    <button class=\"colab-df-convert\" onclick=\"convertToInteractive('df-b718a3ce-e401-4473-9e31-34d86bd8c024')\"\n",
              "            title=\"Convert this dataframe to an interactive table.\"\n",
              "            style=\"display:none;\">\n",
              "\n",
              "  <svg xmlns=\"http://www.w3.org/2000/svg\" height=\"24px\" viewBox=\"0 -960 960 960\">\n",
              "    <path d=\"M120-120v-720h720v720H120Zm60-500h600v-160H180v160Zm220 220h160v-160H400v160Zm0 220h160v-160H400v160ZM180-400h160v-160H180v160Zm440 0h160v-160H620v160ZM180-180h160v-160H180v160Zm440 0h160v-160H620v160Z\"/>\n",
              "  </svg>\n",
              "    </button>\n",
              "\n",
              "  <style>\n",
              "    .colab-df-container {\n",
              "      display:flex;\n",
              "      gap: 12px;\n",
              "    }\n",
              "\n",
              "    .colab-df-convert {\n",
              "      background-color: #E8F0FE;\n",
              "      border: none;\n",
              "      border-radius: 50%;\n",
              "      cursor: pointer;\n",
              "      display: none;\n",
              "      fill: #1967D2;\n",
              "      height: 32px;\n",
              "      padding: 0 0 0 0;\n",
              "      width: 32px;\n",
              "    }\n",
              "\n",
              "    .colab-df-convert:hover {\n",
              "      background-color: #E2EBFA;\n",
              "      box-shadow: 0px 1px 2px rgba(60, 64, 67, 0.3), 0px 1px 3px 1px rgba(60, 64, 67, 0.15);\n",
              "      fill: #174EA6;\n",
              "    }\n",
              "\n",
              "    .colab-df-buttons div {\n",
              "      margin-bottom: 4px;\n",
              "    }\n",
              "\n",
              "    [theme=dark] .colab-df-convert {\n",
              "      background-color: #3B4455;\n",
              "      fill: #D2E3FC;\n",
              "    }\n",
              "\n",
              "    [theme=dark] .colab-df-convert:hover {\n",
              "      background-color: #434B5C;\n",
              "      box-shadow: 0px 1px 3px 1px rgba(0, 0, 0, 0.15);\n",
              "      filter: drop-shadow(0px 1px 2px rgba(0, 0, 0, 0.3));\n",
              "      fill: #FFFFFF;\n",
              "    }\n",
              "  </style>\n",
              "\n",
              "    <script>\n",
              "      const buttonEl =\n",
              "        document.querySelector('#df-b718a3ce-e401-4473-9e31-34d86bd8c024 button.colab-df-convert');\n",
              "      buttonEl.style.display =\n",
              "        google.colab.kernel.accessAllowed ? 'block' : 'none';\n",
              "\n",
              "      async function convertToInteractive(key) {\n",
              "        const element = document.querySelector('#df-b718a3ce-e401-4473-9e31-34d86bd8c024');\n",
              "        const dataTable =\n",
              "          await google.colab.kernel.invokeFunction('convertToInteractive',\n",
              "                                                    [key], {});\n",
              "        if (!dataTable) return;\n",
              "\n",
              "        const docLinkHtml = 'Like what you see? Visit the ' +\n",
              "          '<a target=\"_blank\" href=https://colab.research.google.com/notebooks/data_table.ipynb>data table notebook</a>'\n",
              "          + ' to learn more about interactive tables.';\n",
              "        element.innerHTML = '';\n",
              "        dataTable['output_type'] = 'display_data';\n",
              "        await google.colab.output.renderOutput(dataTable, element);\n",
              "        const docLink = document.createElement('div');\n",
              "        docLink.innerHTML = docLinkHtml;\n",
              "        element.appendChild(docLink);\n",
              "      }\n",
              "    </script>\n",
              "  </div>\n",
              "\n",
              "\n",
              "<div id=\"df-0878efeb-042b-4832-8de2-6df75b732940\">\n",
              "  <button class=\"colab-df-quickchart\" onclick=\"quickchart('df-0878efeb-042b-4832-8de2-6df75b732940')\"\n",
              "            title=\"Suggest charts\"\n",
              "            style=\"display:none;\">\n",
              "\n",
              "<svg xmlns=\"http://www.w3.org/2000/svg\" height=\"24px\"viewBox=\"0 0 24 24\"\n",
              "     width=\"24px\">\n",
              "    <g>\n",
              "        <path d=\"M19 3H5c-1.1 0-2 .9-2 2v14c0 1.1.9 2 2 2h14c1.1 0 2-.9 2-2V5c0-1.1-.9-2-2-2zM9 17H7v-7h2v7zm4 0h-2V7h2v10zm4 0h-2v-4h2v4z\"/>\n",
              "    </g>\n",
              "</svg>\n",
              "  </button>\n",
              "\n",
              "<style>\n",
              "  .colab-df-quickchart {\n",
              "      --bg-color: #E8F0FE;\n",
              "      --fill-color: #1967D2;\n",
              "      --hover-bg-color: #E2EBFA;\n",
              "      --hover-fill-color: #174EA6;\n",
              "      --disabled-fill-color: #AAA;\n",
              "      --disabled-bg-color: #DDD;\n",
              "  }\n",
              "\n",
              "  [theme=dark] .colab-df-quickchart {\n",
              "      --bg-color: #3B4455;\n",
              "      --fill-color: #D2E3FC;\n",
              "      --hover-bg-color: #434B5C;\n",
              "      --hover-fill-color: #FFFFFF;\n",
              "      --disabled-bg-color: #3B4455;\n",
              "      --disabled-fill-color: #666;\n",
              "  }\n",
              "\n",
              "  .colab-df-quickchart {\n",
              "    background-color: var(--bg-color);\n",
              "    border: none;\n",
              "    border-radius: 50%;\n",
              "    cursor: pointer;\n",
              "    display: none;\n",
              "    fill: var(--fill-color);\n",
              "    height: 32px;\n",
              "    padding: 0;\n",
              "    width: 32px;\n",
              "  }\n",
              "\n",
              "  .colab-df-quickchart:hover {\n",
              "    background-color: var(--hover-bg-color);\n",
              "    box-shadow: 0 1px 2px rgba(60, 64, 67, 0.3), 0 1px 3px 1px rgba(60, 64, 67, 0.15);\n",
              "    fill: var(--button-hover-fill-color);\n",
              "  }\n",
              "\n",
              "  .colab-df-quickchart-complete:disabled,\n",
              "  .colab-df-quickchart-complete:disabled:hover {\n",
              "    background-color: var(--disabled-bg-color);\n",
              "    fill: var(--disabled-fill-color);\n",
              "    box-shadow: none;\n",
              "  }\n",
              "\n",
              "  .colab-df-spinner {\n",
              "    border: 2px solid var(--fill-color);\n",
              "    border-color: transparent;\n",
              "    border-bottom-color: var(--fill-color);\n",
              "    animation:\n",
              "      spin 1s steps(1) infinite;\n",
              "  }\n",
              "\n",
              "  @keyframes spin {\n",
              "    0% {\n",
              "      border-color: transparent;\n",
              "      border-bottom-color: var(--fill-color);\n",
              "      border-left-color: var(--fill-color);\n",
              "    }\n",
              "    20% {\n",
              "      border-color: transparent;\n",
              "      border-left-color: var(--fill-color);\n",
              "      border-top-color: var(--fill-color);\n",
              "    }\n",
              "    30% {\n",
              "      border-color: transparent;\n",
              "      border-left-color: var(--fill-color);\n",
              "      border-top-color: var(--fill-color);\n",
              "      border-right-color: var(--fill-color);\n",
              "    }\n",
              "    40% {\n",
              "      border-color: transparent;\n",
              "      border-right-color: var(--fill-color);\n",
              "      border-top-color: var(--fill-color);\n",
              "    }\n",
              "    60% {\n",
              "      border-color: transparent;\n",
              "      border-right-color: var(--fill-color);\n",
              "    }\n",
              "    80% {\n",
              "      border-color: transparent;\n",
              "      border-right-color: var(--fill-color);\n",
              "      border-bottom-color: var(--fill-color);\n",
              "    }\n",
              "    90% {\n",
              "      border-color: transparent;\n",
              "      border-bottom-color: var(--fill-color);\n",
              "    }\n",
              "  }\n",
              "</style>\n",
              "\n",
              "  <script>\n",
              "    async function quickchart(key) {\n",
              "      const quickchartButtonEl =\n",
              "        document.querySelector('#' + key + ' button');\n",
              "      quickchartButtonEl.disabled = true;  // To prevent multiple clicks.\n",
              "      quickchartButtonEl.classList.add('colab-df-spinner');\n",
              "      try {\n",
              "        const charts = await google.colab.kernel.invokeFunction(\n",
              "            'suggestCharts', [key], {});\n",
              "      } catch (error) {\n",
              "        console.error('Error during call to suggestCharts:', error);\n",
              "      }\n",
              "      quickchartButtonEl.classList.remove('colab-df-spinner');\n",
              "      quickchartButtonEl.classList.add('colab-df-quickchart-complete');\n",
              "    }\n",
              "    (() => {\n",
              "      let quickchartButtonEl =\n",
              "        document.querySelector('#df-0878efeb-042b-4832-8de2-6df75b732940 button');\n",
              "      quickchartButtonEl.style.display =\n",
              "        google.colab.kernel.accessAllowed ? 'block' : 'none';\n",
              "    })();\n",
              "  </script>\n",
              "</div>\n",
              "\n",
              "    </div>\n",
              "  </div>\n"
            ],
            "application/vnd.google.colaboratory.intrinsic+json": {
              "type": "dataframe",
              "summary": "{\n  \"name\": \"product_ner_data\",\n  \"rows\": 3,\n  \"fields\": [\n    {\n      \"column\": \"title\",\n      \"properties\": {\n        \"dtype\": \"string\",\n        \"num_unique_values\": 3,\n        \"samples\": [\n          \"c&amp;w petite whole beans, 14 ounce frozen\",\n          \"coby cx-cd375 micro stereo system with top-loading cd player discontinued by manufacturer\",\n          \"mabef sketch box easel mbm-22\"\n        ],\n        \"semantic_type\": \"\",\n        \"description\": \"\"\n      }\n    },\n    {\n      \"column\": \"extracted_attributes\",\n      \"properties\": {\n        \"dtype\": \"string\",\n        \"num_unique_values\": 3,\n        \"samples\": [\n          \"{\\\"brand\\\": [\\\"c&w\\\"], \\\"quantity\\\": [\\\"14 ounce\\\"]}\",\n          \"{\\\"brand\\\": [\\\"coby\\\"], \\\"features_specifications\\\": [\\\"cx-cd375\\\", \\\" micro stereo system \\\", \\\"top-loading cd player\\\"]}\",\n          \"{\\\"brand\\\": [\\\"mabef\\\"], \\\"features_specifications\\\": [\\\"mbm-22\\\", \\\" sketch box easel\\\"]}\"\n        ],\n        \"semantic_type\": \"\",\n        \"description\": \"\"\n      }\n    },\n    {\n      \"column\": \"ner_entities\",\n      \"properties\": {\n        \"dtype\": \"object\",\n        \"semantic_type\": \"\",\n        \"description\": \"\"\n      }\n    }\n  ]\n}"
            }
          },
          "metadata": {},
          "execution_count": 6
        }
      ]
    },
    {
      "cell_type": "markdown",
      "source": [
        "##### Taking a look at the entities created"
      ],
      "metadata": {
        "id": "4etpEGoqIuce"
      }
    },
    {
      "cell_type": "code",
      "source": [
        "for idx, row in product_ner_data.head(1).iterrows():\n",
        "    print(\"\\nTitle:\", row['title'])\n",
        "    print(\"Entities found:\")\n",
        "    for start, end, label in row['ner_entities']:\n",
        "        entity_text = row['title'][start:end]\n",
        "        print(f\"  {label}: '{entity_text}' (positions {start}:{end})\")"
      ],
      "metadata": {
        "colab": {
          "base_uri": "https://localhost:8080/"
        },
        "id": "tr-zMLwqIpWC",
        "outputId": "c51207bb-cf2f-4411-ab57-f459ee626673"
      },
      "execution_count": 7,
      "outputs": [
        {
          "output_type": "stream",
          "name": "stdout",
          "text": [
            "\n",
            "Title: kurt adler j3767 wooden nativity advent calendar with 24 magnetic piece\n",
            "Entities found:\n",
            "  brand: 'kurt adler' (positions 0:10)\n",
            "  features_specifications: 'j3767' (positions 11:16)\n",
            "  features_specifications: 'wooden' (positions 17:23)\n",
            "  features_specifications: 'nativity advent calendar' (positions 24:48)\n",
            "  features_specifications: '24 magnetic piece' (positions 54:71)\n"
          ]
        }
      ]
    },
    {
      "cell_type": "markdown",
      "source": [
        "Lets check the frequency of all the attributes"
      ],
      "metadata": {
        "id": "gz_Fo2chKttH"
      }
    },
    {
      "cell_type": "code",
      "source": [
        "entity_counts = defaultdict(int)\n",
        "sum_of_entities = 0\n",
        "for _, row in product_ner_data.iterrows():\n",
        "    unique_entities = set(entity[2] for entity in row['ner_entities'])\n",
        "    for entity_type in unique_entities:\n",
        "        entity_counts[entity_type] += 1\n",
        "        sum_of_entities += 1\n",
        "print(entity_counts)\n",
        "\n",
        "# taking rare entites, which are present less than 10% of the total entities\n",
        "rare_entities = [entity for entity, count in entity_counts.items() if count <= (sum_of_entities * 0.1)]\n",
        "common_entities = [entity for entity, count in entity_counts.items() if count > (sum_of_entities * 0.1)]\n",
        "\n",
        "print(f\"Identified {len(rare_entities)} rare entities: {rare_entities}\")\n",
        "print(f\"Identified {len(common_entities)} common entities.\")"
      ],
      "metadata": {
        "colab": {
          "base_uri": "https://localhost:8080/"
        },
        "id": "C-JWlaOOQvK_",
        "outputId": "fbf88002-ebfe-429c-9687-8eb840a9b0d6"
      },
      "execution_count": 8,
      "outputs": [
        {
          "output_type": "stream",
          "name": "stdout",
          "text": [
            "defaultdict(<class 'int'>, {'features_specifications': 283, 'brand': 267, 'quantity': 157, 'color': 92, 'dimensions': 8, 'gender': 10})\n",
            "Identified 2 rare entities: ['dimensions', 'gender']\n",
            "Identified 4 common entities.\n"
          ]
        }
      ]
    },
    {
      "cell_type": "markdown",
      "source": [
        "As we are getting unbalanced data, we will have to distribute the data in train, test and val, such that the less frequency attributes are not missed"
      ],
      "metadata": {
        "id": "FLHXi9HZM0La"
      }
    },
    {
      "cell_type": "markdown",
      "source": [
        "##### Upsampling and Creating a train-test split"
      ],
      "metadata": {
        "id": "ShvQmSCQAGzb"
      }
    },
    {
      "cell_type": "code",
      "source": [
        "from sklearn.utils import resample\n",
        "\n",
        "rare_df = product_ner_data[product_ner_data['ner_entities'].apply(lambda x: any(e[2] in rare_entities for e in x))]\n",
        "common_df = product_ner_data[~product_ner_data['ner_entities'].apply(lambda x: any(e[2] in rare_entities for e in x))]\n",
        "\n",
        "rare_df_oversampled = resample(rare_df, replace=True, n_samples=100, random_state=42)\n",
        "\n",
        "product_ner_data = pd.concat([common_df, rare_df_oversampled])"
      ],
      "metadata": {
        "id": "NcPj5lQ-LABt"
      },
      "execution_count": 9,
      "outputs": []
    },
    {
      "cell_type": "code",
      "source": [
        "product_ner_data.shape"
      ],
      "metadata": {
        "colab": {
          "base_uri": "https://localhost:8080/"
        },
        "id": "B4e9PLevLGuG",
        "outputId": "376998d8-6785-4225-b2a6-11e307801118"
      },
      "execution_count": 10,
      "outputs": [
        {
          "output_type": "execute_result",
          "data": {
            "text/plain": [
              "(381, 3)"
            ]
          },
          "metadata": {},
          "execution_count": 10
        }
      ]
    },
    {
      "cell_type": "code",
      "source": [
        "train_product_ner_data, test_temp = train_test_split(product_ner_data, test_size=0.2, random_state=42)\n",
        "test_product_ner_data, val_product_ner_data = train_test_split(test_temp, test_size=0.5, random_state=42)\n",
        "\n",
        "print(f\"Train size: {len(train_product_ner_data)}, Val size: {len(val_product_ner_data)}, Test size: {len(test_product_ner_data)}\")"
      ],
      "metadata": {
        "colab": {
          "base_uri": "https://localhost:8080/"
        },
        "id": "XncVTUv6NMij",
        "outputId": "4802fec9-3af9-42ca-b7bf-4e9341dc61d6"
      },
      "execution_count": 11,
      "outputs": [
        {
          "output_type": "stream",
          "name": "stdout",
          "text": [
            "Train size: 304, Val size: 39, Test size: 38\n"
          ]
        }
      ]
    },
    {
      "cell_type": "code",
      "source": [
        "nlp_ner = spacy.blank(\"en\")"
      ],
      "metadata": {
        "id": "EA-WOw5HFxOd"
      },
      "execution_count": 12,
      "outputs": []
    },
    {
      "cell_type": "markdown",
      "source": [
        "##### Preparing the data for training"
      ],
      "metadata": {
        "id": "1aZ909ZWFfFz"
      }
    },
    {
      "cell_type": "code",
      "source": [
        "def preprocess_text(text):\n",
        "    text = ' '.join(text.lower().strip().split())\n",
        "    return text\n",
        "\n",
        "def prepare_training_data(df, nlp):\n",
        "    db = DocBin()\n",
        "\n",
        "    for _, row in tqdm(df.iterrows(), desc=\"Preparing training data\"):\n",
        "        text = preprocess_text(row['title'])\n",
        "        entities = row['ner_entities']\n",
        "\n",
        "        doc = nlp.make_doc(text)\n",
        "        ents = []\n",
        "\n",
        "        for start, end, label in entities:\n",
        "            try:\n",
        "                span = doc.char_span(start, end, label=label, alignment_mode=\"contract\")\n",
        "                if span is not None:\n",
        "                    ents.append(span)\n",
        "            except ValueError as e:\n",
        "                print(f\"Error creating span for text: {text}, positions {start}:{end}\")\n",
        "                continue\n",
        "\n",
        "        filtered_ents = filter_spans(ents)\n",
        "        doc.ents = filtered_ents\n",
        "        db.add(doc)\n",
        "\n",
        "    return db"
      ],
      "metadata": {
        "id": "wccnNOG3_siQ"
      },
      "execution_count": 13,
      "outputs": []
    },
    {
      "cell_type": "code",
      "source": [
        "train_docbin = prepare_training_data(train_product_ner_data, nlp_ner)\n",
        "val_docbin = prepare_training_data(val_product_ner_data, nlp_ner)\n",
        "test_docbin = prepare_training_data(test_product_ner_data, nlp_ner)"
      ],
      "metadata": {
        "colab": {
          "base_uri": "https://localhost:8080/"
        },
        "id": "Bybsb7isCHGS",
        "outputId": "33312c74-c1d6-43bb-d5da-0cf17fc256c1"
      },
      "execution_count": 14,
      "outputs": [
        {
          "output_type": "stream",
          "name": "stderr",
          "text": [
            "Preparing training data: 304it [00:00, 1502.81it/s]\n",
            "Preparing training data: 39it [00:00, 1721.42it/s]\n",
            "Preparing training data: 38it [00:00, 1615.89it/s]\n"
          ]
        }
      ]
    },
    {
      "cell_type": "markdown",
      "source": [
        "### Model Training"
      ],
      "metadata": {
        "id": "pyI-OqWcAtWC"
      }
    },
    {
      "cell_type": "code",
      "source": [
        "def evaluate_model(nlp, data):\n",
        "    losses = {}\n",
        "    examples = []\n",
        "    for doc in data.get_docs(nlp.vocab):\n",
        "        example = Example.from_dict(\n",
        "            nlp.make_doc(doc.text),\n",
        "            {\"entities\": [(ent.start_char, ent.end_char, ent.label_) for ent in doc.ents]}\n",
        "        )\n",
        "        examples.append(example)\n",
        "    nlp.update(examples, drop=0.0, losses=losses)\n",
        "    return losses[\"ner\"]\n",
        "\n",
        "def train_spacy(nlp_ner, train_data, val_data, max_patience=5):\n",
        "\n",
        "    if \"ner\" not in nlp_ner.pipe_names:\n",
        "        ner = nlp_ner.add_pipe(\"ner\", last=True)\n",
        "\n",
        "    ner = nlp_ner.get_pipe(\"ner\")\n",
        "\n",
        "    for doc in train_data.get_docs(nlp_ner.vocab):\n",
        "        for ent in doc.ents:\n",
        "            ner.add_label(ent.label_)\n",
        "\n",
        "    optimizer = nlp_ner.begin_training()\n",
        "    best_loss = float('inf')\n",
        "    best_model = None\n",
        "    patience = 0\n",
        "    losses = []\n",
        "\n",
        "    while patience < max_patience:\n",
        "        random.shuffle(list(train_data.get_docs(nlp_ner.vocab)))\n",
        "        batches = minibatch(train_data.get_docs(nlp_ner.vocab), size=compounding(4.0, 32.0, 1.001))\n",
        "\n",
        "        for batch in tqdm(batches, desc=f\"Training (patience: {patience})\"):\n",
        "            examples = []\n",
        "            for doc in batch:\n",
        "                example = Example.from_dict(\n",
        "                    nlp_ner.make_doc(doc.text),\n",
        "                    {\"entities\": [(ent.start_char, ent.end_char, ent.label_) for ent in doc.ents]}\n",
        "                )\n",
        "                examples.append(example)\n",
        "            nlp_ner.update(examples, drop=0.5)\n",
        "\n",
        "        val_loss = evaluate_model(nlp_ner, val_data)\n",
        "        losses.append(val_loss)\n",
        "        print(f\"Validation loss: {val_loss:.4f}\")\n",
        "\n",
        "        if val_loss < best_loss:\n",
        "            best_loss = val_loss\n",
        "            best_model = nlp_ner.to_bytes()\n",
        "            patience = 0\n",
        "        else:\n",
        "            patience += 1\n",
        "\n",
        "    # loading best model\n",
        "    if best_model is not None:\n",
        "        nlp_ner.from_bytes(best_model)\n",
        "\n",
        "    return nlp_ner, losses\n"
      ],
      "metadata": {
        "id": "FnIj0_bJAv7p"
      },
      "execution_count": 15,
      "outputs": []
    },
    {
      "cell_type": "code",
      "source": [
        "nlp_product_ner_model, losses = train_spacy(nlp_ner, train_docbin, val_docbin)"
      ],
      "metadata": {
        "colab": {
          "base_uri": "https://localhost:8080/"
        },
        "id": "XH5MsM2ZCUd9",
        "outputId": "177d9882-cdd7-4324-b3ca-65385c268c53"
      },
      "execution_count": 16,
      "outputs": [
        {
          "output_type": "stream",
          "name": "stderr",
          "text": [
            "Training (patience: 0): 76it [00:02, 30.11it/s]\n"
          ]
        },
        {
          "output_type": "stream",
          "name": "stdout",
          "text": [
            "Validation loss: 221.9750\n"
          ]
        },
        {
          "output_type": "stream",
          "name": "stderr",
          "text": [
            "Training (patience: 0): 76it [00:02, 31.49it/s]\n"
          ]
        },
        {
          "output_type": "stream",
          "name": "stdout",
          "text": [
            "Validation loss: 196.0620\n"
          ]
        },
        {
          "output_type": "stream",
          "name": "stderr",
          "text": [
            "Training (patience: 0): 76it [00:02, 27.97it/s]\n"
          ]
        },
        {
          "output_type": "stream",
          "name": "stdout",
          "text": [
            "Validation loss: 190.2436\n"
          ]
        },
        {
          "output_type": "stream",
          "name": "stderr",
          "text": [
            "Training (patience: 0): 76it [00:03, 23.33it/s]\n"
          ]
        },
        {
          "output_type": "stream",
          "name": "stdout",
          "text": [
            "Validation loss: 156.2358\n"
          ]
        },
        {
          "output_type": "stream",
          "name": "stderr",
          "text": [
            "Training (patience: 0): 76it [00:02, 31.83it/s]\n"
          ]
        },
        {
          "output_type": "stream",
          "name": "stdout",
          "text": [
            "Validation loss: 165.5400\n"
          ]
        },
        {
          "output_type": "stream",
          "name": "stderr",
          "text": [
            "Training (patience: 1): 76it [00:02, 32.23it/s]\n"
          ]
        },
        {
          "output_type": "stream",
          "name": "stdout",
          "text": [
            "Validation loss: 115.5597\n"
          ]
        },
        {
          "output_type": "stream",
          "name": "stderr",
          "text": [
            "Training (patience: 0): 76it [00:02, 31.70it/s]\n"
          ]
        },
        {
          "output_type": "stream",
          "name": "stdout",
          "text": [
            "Validation loss: 98.0902\n"
          ]
        },
        {
          "output_type": "stream",
          "name": "stderr",
          "text": [
            "Training (patience: 0): 76it [00:02, 26.72it/s]\n"
          ]
        },
        {
          "output_type": "stream",
          "name": "stdout",
          "text": [
            "Validation loss: 66.3042\n"
          ]
        },
        {
          "output_type": "stream",
          "name": "stderr",
          "text": [
            "Training (patience: 0): 76it [00:03, 23.59it/s]\n"
          ]
        },
        {
          "output_type": "stream",
          "name": "stdout",
          "text": [
            "Validation loss: 78.3334\n"
          ]
        },
        {
          "output_type": "stream",
          "name": "stderr",
          "text": [
            "Training (patience: 1): 76it [00:02, 31.71it/s]\n"
          ]
        },
        {
          "output_type": "stream",
          "name": "stdout",
          "text": [
            "Validation loss: 50.8028\n"
          ]
        },
        {
          "output_type": "stream",
          "name": "stderr",
          "text": [
            "Training (patience: 0): 76it [00:02, 32.38it/s]\n"
          ]
        },
        {
          "output_type": "stream",
          "name": "stdout",
          "text": [
            "Validation loss: 52.5763\n"
          ]
        },
        {
          "output_type": "stream",
          "name": "stderr",
          "text": [
            "Training (patience: 1): 76it [00:02, 32.25it/s]\n"
          ]
        },
        {
          "output_type": "stream",
          "name": "stdout",
          "text": [
            "Validation loss: 44.0275\n"
          ]
        },
        {
          "output_type": "stream",
          "name": "stderr",
          "text": [
            "Training (patience: 0): 76it [00:02, 27.30it/s]\n"
          ]
        },
        {
          "output_type": "stream",
          "name": "stdout",
          "text": [
            "Validation loss: 70.7320\n"
          ]
        },
        {
          "output_type": "stream",
          "name": "stderr",
          "text": [
            "Training (patience: 1): 76it [00:03, 24.47it/s]\n"
          ]
        },
        {
          "output_type": "stream",
          "name": "stdout",
          "text": [
            "Validation loss: 47.5436\n"
          ]
        },
        {
          "output_type": "stream",
          "name": "stderr",
          "text": [
            "Training (patience: 2): 76it [00:02, 32.12it/s]\n"
          ]
        },
        {
          "output_type": "stream",
          "name": "stdout",
          "text": [
            "Validation loss: 52.8749\n"
          ]
        },
        {
          "output_type": "stream",
          "name": "stderr",
          "text": [
            "Training (patience: 3): 76it [00:02, 31.37it/s]\n"
          ]
        },
        {
          "output_type": "stream",
          "name": "stdout",
          "text": [
            "Validation loss: 32.2701\n"
          ]
        },
        {
          "output_type": "stream",
          "name": "stderr",
          "text": [
            "Training (patience: 0): 76it [00:02, 31.78it/s]\n"
          ]
        },
        {
          "output_type": "stream",
          "name": "stdout",
          "text": [
            "Validation loss: 42.7844\n"
          ]
        },
        {
          "output_type": "stream",
          "name": "stderr",
          "text": [
            "Training (patience: 1): 76it [00:03, 20.92it/s]\n"
          ]
        },
        {
          "output_type": "stream",
          "name": "stdout",
          "text": [
            "Validation loss: 33.1977\n"
          ]
        },
        {
          "output_type": "stream",
          "name": "stderr",
          "text": [
            "Training (patience: 2): 76it [00:02, 27.37it/s]\n"
          ]
        },
        {
          "output_type": "stream",
          "name": "stdout",
          "text": [
            "Validation loss: 30.6469\n"
          ]
        },
        {
          "output_type": "stream",
          "name": "stderr",
          "text": [
            "Training (patience: 0): 76it [00:02, 28.57it/s]\n"
          ]
        },
        {
          "output_type": "stream",
          "name": "stdout",
          "text": [
            "Validation loss: 24.3700\n"
          ]
        },
        {
          "output_type": "stream",
          "name": "stderr",
          "text": [
            "Training (patience: 0): 76it [00:06, 10.96it/s]\n"
          ]
        },
        {
          "output_type": "stream",
          "name": "stdout",
          "text": [
            "Validation loss: 25.6086\n"
          ]
        },
        {
          "output_type": "stream",
          "name": "stderr",
          "text": [
            "Training (patience: 1): 76it [00:11,  6.74it/s]\n"
          ]
        },
        {
          "output_type": "stream",
          "name": "stdout",
          "text": [
            "Validation loss: 16.8677\n"
          ]
        },
        {
          "output_type": "stream",
          "name": "stderr",
          "text": [
            "Training (patience: 0): 76it [00:05, 14.04it/s]\n"
          ]
        },
        {
          "output_type": "stream",
          "name": "stdout",
          "text": [
            "Validation loss: 9.8672\n"
          ]
        },
        {
          "output_type": "stream",
          "name": "stderr",
          "text": [
            "Training (patience: 0): 76it [00:02, 31.26it/s]\n"
          ]
        },
        {
          "output_type": "stream",
          "name": "stdout",
          "text": [
            "Validation loss: 10.1594\n"
          ]
        },
        {
          "output_type": "stream",
          "name": "stderr",
          "text": [
            "Training (patience: 1): 76it [00:02, 32.09it/s]\n"
          ]
        },
        {
          "output_type": "stream",
          "name": "stdout",
          "text": [
            "Validation loss: 6.1096\n"
          ]
        },
        {
          "output_type": "stream",
          "name": "stderr",
          "text": [
            "Training (patience: 0): 76it [00:02, 31.90it/s]\n"
          ]
        },
        {
          "output_type": "stream",
          "name": "stdout",
          "text": [
            "Validation loss: 5.5691\n"
          ]
        },
        {
          "output_type": "stream",
          "name": "stderr",
          "text": [
            "Training (patience: 0): 76it [00:02, 26.57it/s]\n"
          ]
        },
        {
          "output_type": "stream",
          "name": "stdout",
          "text": [
            "Validation loss: 19.3593\n"
          ]
        },
        {
          "output_type": "stream",
          "name": "stderr",
          "text": [
            "Training (patience: 1): 76it [00:02, 25.56it/s]\n"
          ]
        },
        {
          "output_type": "stream",
          "name": "stdout",
          "text": [
            "Validation loss: 6.6833\n"
          ]
        },
        {
          "output_type": "stream",
          "name": "stderr",
          "text": [
            "Training (patience: 2): 76it [00:02, 31.65it/s]\n"
          ]
        },
        {
          "output_type": "stream",
          "name": "stdout",
          "text": [
            "Validation loss: 6.3029\n"
          ]
        },
        {
          "output_type": "stream",
          "name": "stderr",
          "text": [
            "Training (patience: 3): 76it [00:02, 31.84it/s]\n"
          ]
        },
        {
          "output_type": "stream",
          "name": "stdout",
          "text": [
            "Validation loss: 5.1166\n"
          ]
        },
        {
          "output_type": "stream",
          "name": "stderr",
          "text": [
            "Training (patience: 0): 76it [00:02, 32.29it/s]\n"
          ]
        },
        {
          "output_type": "stream",
          "name": "stdout",
          "text": [
            "Validation loss: 2.7497\n"
          ]
        },
        {
          "output_type": "stream",
          "name": "stderr",
          "text": [
            "Training (patience: 0): 76it [00:02, 25.44it/s]\n"
          ]
        },
        {
          "output_type": "stream",
          "name": "stdout",
          "text": [
            "Validation loss: 3.3370\n"
          ]
        },
        {
          "output_type": "stream",
          "name": "stderr",
          "text": [
            "Training (patience: 1): 76it [00:03, 24.98it/s]\n"
          ]
        },
        {
          "output_type": "stream",
          "name": "stdout",
          "text": [
            "Validation loss: 4.9455\n"
          ]
        },
        {
          "output_type": "stream",
          "name": "stderr",
          "text": [
            "Training (patience: 2): 76it [00:02, 32.15it/s]\n"
          ]
        },
        {
          "output_type": "stream",
          "name": "stdout",
          "text": [
            "Validation loss: 4.5008\n"
          ]
        },
        {
          "output_type": "stream",
          "name": "stderr",
          "text": [
            "Training (patience: 3): 76it [00:02, 31.66it/s]\n"
          ]
        },
        {
          "output_type": "stream",
          "name": "stdout",
          "text": [
            "Validation loss: 6.5308\n"
          ]
        },
        {
          "output_type": "stream",
          "name": "stderr",
          "text": [
            "Training (patience: 4): 76it [00:02, 31.86it/s]\n"
          ]
        },
        {
          "output_type": "stream",
          "name": "stdout",
          "text": [
            "Validation loss: 7.2708\n"
          ]
        }
      ]
    },
    {
      "cell_type": "markdown",
      "source": [
        "#### Plotting the loss"
      ],
      "metadata": {
        "id": "QtzttNVaBvbE"
      }
    },
    {
      "cell_type": "code",
      "source": [
        "plt.figure(figsize=(10, 6))\n",
        "plt.plot(range(1, len(losses) + 1), losses, marker='o')\n",
        "plt.xlabel(\"Epoch\")\n",
        "plt.ylabel(\"Validation Loss\")\n",
        "plt.title(\"Training History\")\n",
        "plt.grid(True)\n",
        "plt.show()"
      ],
      "metadata": {
        "colab": {
          "base_uri": "https://localhost:8080/",
          "height": 564
        },
        "id": "wr-3_t-eBvJf",
        "outputId": "198b8c3b-5dae-4d01-fb01-06cf8805fb05"
      },
      "execution_count": 17,
      "outputs": [
        {
          "output_type": "display_data",
          "data": {
            "text/plain": [
              "<Figure size 1000x600 with 1 Axes>"
            ],
            "image/png": "[encoded data removed]"
          },
          "metadata": {}
        }
      ]
    },
    {
      "cell_type": "markdown",
      "source": [
        "### Testing model"
      ],
      "metadata": {
        "id": "8Jbwm00BCkYJ"
      }
    },
    {
      "cell_type": "code",
      "source": [
        "print(\"\\nTesting the model:\")\n",
        "for _, row in test_product_ner_data.iterrows():\n",
        "    doc = nlp_product_ner_model(preprocess_text(row['title']))\n",
        "    print(f\"\\nText: {row['title']}\")\n",
        "    print(\"Predicted entities:\")\n",
        "    for ent in doc.ents:\n",
        "        print(f\"  {ent.label_}: '{ent.text}' ({ent.start_char}:{ent.end_char})\")\n",
        "\n",
        "    print(\"Original Entities:\")\n",
        "    for start, end, label in row['ner_entities']:\n",
        "        entity_text = row['title'][start:end]\n",
        "        print(f\"  {label}: '{entity_text}' (positions {start}:{end})\")"
      ],
      "metadata": {
        "colab": {
          "base_uri": "https://localhost:8080/"
        },
        "id": "5S1Sbq_3B3mg",
        "outputId": "dfcdd2d1-8b3e-4d4b-9843-6d2ff9eb4a95"
      },
      "execution_count": 18,
      "outputs": [
        {
          "output_type": "stream",
          "name": "stdout",
          "text": [
            "\n",
            "Testing the model:\n",
            "\n",
            "Text: park b. smith nassau stripe 40-by-24-inch rug, mesquite\n",
            "Predicted entities:\n",
            "  brand: 'park b. smith' (0:13)\n",
            "  quantity: '40-by-24-inch' (28:41)\n",
            "  features_specifications: 'rug' (42:45)\n",
            "  color: 'mesquite' (47:55)\n",
            "Original Entities:\n",
            "  brand: 'park b. smith' (positions 0:13)\n",
            "  color: 'mesquite' (positions 47:55)\n",
            "  quantity: '40-by-24-inch' (positions 28:41)\n",
            "  features_specifications: 'nassau stripe' (positions 14:27)\n",
            "  features_specifications: 'rug' (positions 42:45)\n",
            "\n",
            "Text: sandra darren women's paisley-print sheath dress\n",
            "Predicted entities:\n",
            "  brand: 'sandra darren' (0:13)\n",
            "  gender: 'women's' (14:21)\n",
            "  features_specifications: 'paisley-print' (22:35)\n",
            "  features_specifications: 'sheath dress' (36:48)\n",
            "Original Entities:\n",
            "  brand: 'sandra darren' (positions 0:13)\n",
            "  gender: 'women's' (positions 14:21)\n",
            "  features_specifications: 'paisley-print' (positions 22:35)\n",
            "  features_specifications: 'sheath dress' (positions 36:48)\n",
            "\n",
            "Text: rodelle organic pure vanilla extract, 4-ounce\n",
            "Predicted entities:\n",
            "  brand: 'rodelle' (0:7)\n",
            "  features_specifications: 'pure vanilla extract' (16:36)\n",
            "  quantity: '4-ounce' (38:45)\n",
            "Original Entities:\n",
            "  brand: 'rodelle' (positions 0:7)\n",
            "  quantity: '4-ounce' (positions 38:45)\n",
            "  features_specifications: 'organic' (positions 8:15)\n",
            "  features_specifications: 'pure' (positions 16:20)\n",
            "  features_specifications: 'vanilla' (positions 21:28)\n",
            "\n",
            "Text: american crafts thickers vinyl letter stickers, sprinkles red\n",
            "Predicted entities:\n",
            "  brand: 'american crafts' (0:15)\n",
            "  features_specifications: 'thickers' (16:24)\n",
            "  features_specifications: 'vinyl' (25:30)\n",
            "  features_specifications: 'letter stickers' (31:46)\n",
            "  color: 'sprinkles red' (48:61)\n",
            "Original Entities:\n",
            "  brand: 'american crafts' (positions 0:15)\n",
            "  color: 'red' (positions 58:61)\n",
            "  features_specifications: 'vinyl letter stickers' (positions 25:46)\n",
            "  features_specifications: 'sprinkles' (positions 48:57)\n",
            "\n",
            "Text: closetmaid 164000 white closet organ kit, 5'\n",
            "Predicted entities:\n",
            "  brand: 'closetmaid' (0:10)\n",
            "  features_specifications: '164000' (11:17)\n",
            "  color: 'white' (18:23)\n",
            "  features_specifications: 'closet organ kit' (24:40)\n",
            "  dimensions: '5'' (42:44)\n",
            "Original Entities:\n",
            "  brand: 'closetmaid' (positions 0:10)\n",
            "  color: 'white' (positions 18:23)\n",
            "  features_specifications: '164000' (positions 11:17)\n",
            "  features_specifications: 'closet organ kit' (positions 24:40)\n",
            "  dimensions: '5'' (positions 42:44)\n",
            "\n",
            "Text: capresso 554.03 burr grinder sensor, chrome\n",
            "Predicted entities:\n",
            "  brand: 'capresso' (0:8)\n",
            "  features_specifications: '554.03' (9:15)\n",
            "  features_specifications: 'burr grinder sensor' (16:35)\n",
            "  color: 'chrome' (37:43)\n",
            "Original Entities:\n",
            "  brand: 'capresso' (positions 0:8)\n",
            "  color: 'chrome' (positions 37:43)\n",
            "  features_specifications: '554.03' (positions 9:15)\n",
            "  features_specifications: 'burr grinder sensor' (positions 16:35)\n",
            "\n",
            "Text: laura glass 12-inch, 3-tier cake stand, clear\n",
            "Predicted entities:\n",
            "  brand: 'laura' (0:5)\n",
            "  features_specifications: 'glass' (6:11)\n",
            "  features_specifications: '12-inch' (12:19)\n",
            "  quantity: '3-tier' (21:27)\n",
            "  color: 'clear' (40:45)\n",
            "Original Entities:\n",
            "  brand: 'laura glass' (positions 0:11)\n",
            "  color: 'clear' (positions 40:45)\n",
            "  quantity: '3-tier' (positions 21:27)\n",
            "  quantity: '12-inch' (positions 12:19)\n",
            "  features_specifications: 'glass' (positions 6:11)\n",
            "\n",
            "Text: ape case ac250 lens pouch bag adjustable lens case for dslr cameras black\n",
            "Predicted entities:\n",
            "  brand: 'ape case' (0:8)\n",
            "  features_specifications: 'ac250 lens pouch bag' (9:29)\n",
            "  features_specifications: 'adjustable lens case' (30:50)\n",
            "  features_specifications: 'dslr cameras' (55:67)\n",
            "Original Entities:\n",
            "  brand: 'ape case' (positions 0:8)\n",
            "  color: 'black' (positions 68:73)\n",
            "  features_specifications: 'ac250' (positions 9:14)\n",
            "  features_specifications: 'lens pouch bag' (positions 15:29)\n",
            "  features_specifications: 'adjustable lens case' (positions 30:50)\n",
            "  features_specifications: 'for dslr cameras' (positions 51:67)\n",
            "\n",
            "Text: uniden bearcat pc68 elite 40-channel cb radio\n",
            "Predicted entities:\n",
            "  brand: 'uniden' (0:6)\n",
            "  features_specifications: 'elite' (20:25)\n",
            "  quantity: '40-channel' (26:36)\n",
            "  features_specifications: 'cb radio' (37:45)\n",
            "Original Entities:\n",
            "  brand: 'uniden' (positions 0:6)\n",
            "  features_specifications: 'pc68 elite' (positions 15:25)\n",
            "  features_specifications: '40-channel' (positions 26:36)\n",
            "  features_specifications: 'cb radio' (positions 37:45)\n",
            "\n",
            "Text: kidkraft avalon tall bookshelf  white\n",
            "Predicted entities:\n",
            "  brand: 'kidkraft' (0:8)\n",
            "  features_specifications: 'avalon' (9:15)\n",
            "  features_specifications: 'tall bookshelf' (16:30)\n",
            "  color: 'white' (31:36)\n",
            "Original Entities:\n",
            "  brand: 'kidkraft' (positions 0:8)\n",
            "  color: 'white' (positions 32:37)\n",
            "  features_specifications: 'tall' (positions 16:20)\n",
            "  features_specifications: 'bookshelf' (positions 21:30)\n",
            "\n",
            "Text: imported three crabs brand fish sauce, 24-ounce bottle pack of 2\n",
            "Predicted entities:\n",
            "  brand: 'imported' (0:8)\n",
            "  features_specifications: 'three' (9:14)\n",
            "  features_specifications: 'crabs' (15:20)\n",
            "  features_specifications: 'brand' (21:26)\n",
            "  features_specifications: 'fish sauce' (27:37)\n",
            "  quantity: '24-ounce' (39:47)\n",
            "  quantity: 'pack of 2' (55:64)\n",
            "Original Entities:\n",
            "  brand: 'three crabs' (positions 9:20)\n",
            "  quantity: 'pack of 2' (positions 55:64)\n",
            "  quantity: '24-ounce' (positions 39:47)\n",
            "  features_specifications: 'imported' (positions 0:8)\n",
            "  features_specifications: 'fish sauce' (positions 27:37)\n",
            "  features_specifications: 'bottle' (positions 48:54)\n",
            "\n",
            "Text: creativity street 85754  ac3370di non-toxic glue stick set, 10 cc tube, assorted glitter color pack of 6, white\n",
            "Predicted entities:\n",
            "  brand: 'creativity' (0:10)\n",
            "  features_specifications: 'street' (11:17)\n",
            "  features_specifications: '85754' (18:23)\n",
            "  features_specifications: 'non-toxic' (33:42)\n",
            "  features_specifications: 'glue stick set' (43:57)\n",
            "  quantity: '10 cc tube' (59:69)\n",
            "  features_specifications: 'assorted' (71:79)\n",
            "  features_specifications: 'glitter color' (80:93)\n",
            "  quantity: 'pack of 6' (94:103)\n",
            "  color: 'white' (105:110)\n",
            "Original Entities:\n",
            "  brand: 'creativity street' (positions 0:17)\n",
            "  color: 'assorted glitter color' (positions 72:94)\n",
            "  color: 'white' (positions 106:111)\n",
            "  quantity: 'pack of 6' (positions 95:104)\n",
            "  quantity: '10 cc tube' (positions 60:70)\n",
            "  features_specifications: 'non-toxic glue stick set' (positions 34:58)\n",
            "\n",
            "Text: laurey 20226 modern standards 1/12 diameter knob, chrome\n",
            "Predicted entities:\n",
            "  brand: 'laurey' (0:6)\n",
            "  features_specifications: '20226' (7:12)\n",
            "  features_specifications: 'modern standards' (13:29)\n",
            "  features_specifications: '1/12' (30:34)\n",
            "  features_specifications: 'diameter knob' (35:48)\n",
            "  color: 'chrome' (50:56)\n",
            "Original Entities:\n",
            "  brand: 'laurey' (positions 0:6)\n",
            "  color: 'chrome' (positions 50:56)\n",
            "  quantity: '1/12 diameter' (positions 30:43)\n",
            "  features_specifications: '20226' (positions 7:12)\n",
            "  features_specifications: 'modern standards' (positions 13:29)\n",
            "\n",
            "Text: grizzly g9698 6-inch vernier caliper\n",
            "Predicted entities:\n",
            "  brand: 'grizzly g9698' (0:13)\n",
            "  quantity: '6-inch' (14:20)\n",
            "  features_specifications: 'vernier caliper' (21:36)\n",
            "Original Entities:\n",
            "  brand: 'grizzly' (positions 0:7)\n",
            "  features_specifications: 'g9698' (positions 8:13)\n",
            "  features_specifications: '6-inch' (positions 14:20)\n",
            "  features_specifications: 'vernier caliper' (positions 21:36)\n",
            "\n",
            "Text: kurt adler j3767 wooden nativity advent calendar with 24 magnetic piece\n",
            "Predicted entities:\n",
            "  brand: 'kurt' (0:4)\n",
            "  features_specifications: 'j3767 wooden' (11:23)\n",
            "  features_specifications: 'nativity' (24:32)\n",
            "  features_specifications: 'advent calendar' (33:48)\n",
            "  quantity: '24 magnetic' (54:65)\n",
            "Original Entities:\n",
            "  brand: 'kurt adler' (positions 0:10)\n",
            "  features_specifications: 'j3767' (positions 11:16)\n",
            "  features_specifications: 'wooden' (positions 17:23)\n",
            "  features_specifications: 'nativity advent calendar' (positions 24:48)\n",
            "  features_specifications: '24 magnetic piece' (positions 54:71)\n",
            "\n",
            "Text: martex egyptian bath towel, black\n",
            "Predicted entities:\n",
            "  brand: 'martex' (0:6)\n",
            "  features_specifications: 'egyptian' (7:15)\n",
            "  color: 'black' (28:33)\n",
            "Original Entities:\n",
            "  brand: 'martex' (positions 0:6)\n",
            "  color: 'black' (positions 28:33)\n",
            "  features_specifications: 'egyptian' (positions 7:15)\n",
            "  features_specifications: 'bath towel' (positions 16:26)\n",
            "\n",
            "Text: enell women's wire-free sports bra\n",
            "Predicted entities:\n",
            "  brand: 'enell' (0:5)\n",
            "  gender: 'women' (6:11)\n",
            "  features_specifications: 'wire-free' (14:23)\n",
            "  features_specifications: 'sports bra' (24:34)\n",
            "Original Entities:\n",
            "  brand: 'enell' (positions 0:5)\n",
            "  gender: 'women' (positions 6:11)\n",
            "  features_specifications: 'wire-free' (positions 14:23)\n",
            "  features_specifications: 'sports bra' (positions 24:34)\n",
            "\n",
            "Text: baby-girls kid collection satin & lace christening set 18-24m xl white kid b559\n",
            "Predicted entities:\n",
            "  gender: 'baby-girls' (0:10)\n",
            "  brand: 'kid collection' (11:25)\n",
            "  features_specifications: 'satin' (26:31)\n",
            "  features_specifications: 'lace' (34:38)\n",
            "  quantity: '18-24m' (55:61)\n",
            "  quantity: 'xl' (62:64)\n",
            "  color: 'white' (65:70)\n",
            "  features_specifications: 'b559' (75:79)\n",
            "Original Entities:\n",
            "  color: 'white' (positions 65:70)\n",
            "  gender: 'baby-girls' (positions 0:10)\n",
            "  quantity: '18-24m' (positions 55:61)\n",
            "  quantity: 'xl' (positions 62:64)\n",
            "  features_specifications: 'b559' (positions 75:79)\n",
            "  features_specifications: 'kid collection' (positions 11:25)\n",
            "  features_specifications: 'satin & lace' (positions 26:38)\n",
            "  features_specifications: 'christening set' (positions 39:54)\n",
            "\n",
            "Text: anchor hocking glass square ashtray, 3.625 inch\n",
            "Predicted entities:\n",
            "  brand: 'anchor' (0:6)\n",
            "  features_specifications: 'hocking glass' (7:20)\n",
            "  features_specifications: 'square ashtray' (21:35)\n",
            "  quantity: '3.625 inch' (37:47)\n",
            "Original Entities:\n",
            "  brand: 'anchor hocking' (positions 0:14)\n",
            "  quantity: '3.625 inch' (positions 37:47)\n",
            "  features_specifications: 'glass' (positions 15:20)\n",
            "  features_specifications: 'square' (positions 21:27)\n",
            "  features_specifications: 'ashtray' (positions 28:35)\n",
            "\n",
            "Text: aerobed cozytop bed, full\n",
            "Predicted entities:\n",
            "  brand: 'aerobed' (0:7)\n",
            "  features_specifications: 'full' (21:25)\n",
            "Original Entities:\n",
            "  brand: 'aerobed' (positions 0:7)\n",
            "  quantity: 'full' (positions 21:25)\n",
            "  features_specifications: 'cozytop' (positions 8:15)\n",
            "\n",
            "Text: creative home chrome works heavy gauge dish rack\n",
            "Predicted entities:\n",
            "  brand: 'creative home' (0:13)\n",
            "  features_specifications: 'chrome works' (14:26)\n",
            "  features_specifications: 'heavy gauge' (27:38)\n",
            "  features_specifications: 'dish rack' (39:48)\n",
            "Original Entities:\n",
            "  brand: 'creative home' (positions 0:13)\n",
            "  color: 'chrome' (positions 14:20)\n",
            "  features_specifications: 'heavy gauge' (positions 27:38)\n",
            "  features_specifications: 'dish rack' (positions 39:48)\n",
            "\n",
            "Text: politics: a novel\n",
            "Predicted entities:\n",
            "  brand: 'politics' (0:8)\n",
            "Original Entities:\n",
            "  features_specifications: 'politics' (positions 0:8)\n",
            "\n",
            "Text: joyce chen 90-0081, japanese tetsubin teapot cast-iron year of the dragon, 16-ounce, red\n",
            "Predicted entities:\n",
            "  brand: 'joyce' (0:5)\n",
            "  features_specifications: 'japanese' (20:28)\n",
            "  features_specifications: 'tetsubin teapot' (29:44)\n",
            "  features_specifications: 'cast-iron' (45:54)\n",
            "  features_specifications: 'year of the dragon' (55:73)\n",
            "  quantity: '16-ounce' (75:83)\n",
            "  color: 'red' (85:88)\n",
            "Original Entities:\n",
            "  brand: 'joyce chen' (positions 0:10)\n",
            "  color: 'red' (positions 85:88)\n",
            "  quantity: '16-ounce' (positions 75:83)\n",
            "  features_specifications: '90-0081' (positions 11:18)\n",
            "  features_specifications: 'japanese tetsubin teapot cast-iron' (positions 20:54)\n",
            "  features_specifications: 'year of the dragon' (positions 55:73)\n",
            "\n",
            "Text: sin-free fat free yellow cake mix, 18.3-ounce units pack of 6\n",
            "Predicted entities:\n",
            "  brand: 'sin-free' (0:8)\n",
            "  features_specifications: 'fat free' (9:17)\n",
            "  features_specifications: 'yellow cake' (18:29)\n",
            "  quantity: '18.3-ounce units' (35:51)\n",
            "  quantity: 'pack of 6' (52:61)\n",
            "Original Entities:\n",
            "  brand: 'sin-free' (positions 0:8)\n",
            "  quantity: 'pack of 6' (positions 52:61)\n",
            "  quantity: '18.3-ounce units' (positions 35:51)\n",
            "  features_specifications: 'fat free' (positions 9:17)\n",
            "  features_specifications: 'yellow cake' (positions 18:29)\n",
            "\n",
            "Text: metaltex usa inc. econo dryer, white, 32-inch\n",
            "Predicted entities:\n",
            "  brand: 'metaltex usa' (0:12)\n",
            "  features_specifications: 'econo dryer' (18:29)\n",
            "  color: 'white' (31:36)\n",
            "  dimensions: '32-inch' (38:45)\n",
            "Original Entities:\n",
            "  brand: 'metaltex usa' (positions 0:12)\n",
            "  color: 'white' (positions 31:36)\n",
            "  features_specifications: 'econo dryer' (positions 18:29)\n",
            "  dimensions: '32-inch' (positions 38:45)\n",
            "\n",
            "Text: derek alexander leather organizer ladies sling backpack  black\n",
            "Predicted entities:\n",
            "  brand: 'derek alexander leather' (0:23)\n",
            "  features_specifications: 'organizer' (24:33)\n",
            "  gender: 'ladies' (34:40)\n",
            "  features_specifications: 'sling backpack' (41:55)\n",
            "Original Entities:\n",
            "  brand: 'derek alexander leather' (positions 0:23)\n",
            "  color: 'black' (positions 57:62)\n",
            "  gender: 'ladies' (positions 34:40)\n",
            "  features_specifications: 'leather' (positions 16:23)\n",
            "  features_specifications: 'organizer' (positions 24:33)\n",
            "  features_specifications: 'sling backpack' (positions 41:55)\n",
            "\n",
            "Text: diced black mission figs, 5 pound box\n",
            "Predicted entities:\n",
            "  brand: 'diced' (0:5)\n",
            "  color: 'black' (6:11)\n",
            "  features_specifications: 'mission' (12:19)\n",
            "  quantity: '5 pound' (26:33)\n",
            "Original Entities:\n",
            "  color: 'black' (positions 6:11)\n",
            "  quantity: '5 pound box' (positions 26:37)\n",
            "  features_specifications: 'mission figs' (positions 12:24)\n",
            "  features_specifications: 'diced' (positions 0:5)\n",
            "\n",
            "Text: coby cx-cd375 micro stereo system with top-loading cd player discontinued by manufacturer\n",
            "Predicted entities:\n",
            "  brand: 'coby' (0:4)\n",
            "  features_specifications: 'cx-cd375' (5:13)\n",
            "  features_specifications: 'micro stereo system with' (14:38)\n",
            "  features_specifications: 'top-loading cd player' (39:60)\n",
            "Original Entities:\n",
            "  brand: 'coby' (positions 0:4)\n",
            "  features_specifications: 'cx-cd375' (positions 5:13)\n",
            "  features_specifications: 'micro stereo system' (positions 14:33)\n",
            "  features_specifications: 'top-loading cd player' (positions 39:60)\n",
            "\n",
            "Text: toastmaster 354 0.37-cubic-foot toaster oven/broiler with 15-minutes timer\n",
            "Predicted entities:\n",
            "  brand: 'toastmaster 354' (0:15)\n",
            "  quantity: '0.37-cubic-foot' (16:31)\n",
            "  features_specifications: 'toaster oven' (32:44)\n",
            "  features_specifications: 'broiler' (45:52)\n",
            "  quantity: '15-minutes' (58:68)\n",
            "  features_specifications: 'timer' (69:74)\n",
            "Original Entities:\n",
            "  brand: 'toastmaster' (positions 0:11)\n",
            "  quantity: '0.37-cubic-foot' (positions 16:31)\n",
            "  features_specifications: '354' (positions 12:15)\n",
            "  features_specifications: 'toaster oven/broiler' (positions 32:52)\n",
            "  features_specifications: '15-minutes timer' (positions 58:74)\n",
            "\n",
            "Text: sandra darren women's paisley-print sheath dress\n",
            "Predicted entities:\n",
            "  brand: 'sandra darren' (0:13)\n",
            "  gender: 'women's' (14:21)\n",
            "  features_specifications: 'paisley-print' (22:35)\n",
            "  features_specifications: 'sheath dress' (36:48)\n",
            "Original Entities:\n",
            "  brand: 'sandra darren' (positions 0:13)\n",
            "  gender: 'women's' (positions 14:21)\n",
            "  features_specifications: 'paisley-print' (positions 22:35)\n",
            "  features_specifications: 'sheath dress' (positions 36:48)\n",
            "\n",
            "Text: dole diced pears in 100% juice, 4 oz\n",
            "Predicted entities:\n",
            "  brand: 'dole' (0:4)\n",
            "  features_specifications: 'diced' (5:10)\n",
            "  features_specifications: 'pears' (11:16)\n",
            "  quantity: '100% juice' (20:30)\n",
            "  quantity: '4 oz' (32:36)\n",
            "Original Entities:\n",
            "  brand: 'dole' (positions 0:4)\n",
            "  quantity: '4 oz' (positions 32:36)\n",
            "  features_specifications: 'diced' (positions 5:10)\n",
            "  features_specifications: 'in 100% juice' (positions 17:30)\n",
            "\n",
            "Text: calumet baking powder, 7-ounce cans pack of 24\n",
            "Predicted entities:\n",
            "  brand: 'calumet' (0:7)\n",
            "  quantity: '7-ounce cans' (23:35)\n",
            "  quantity: 'pack of 24' (36:46)\n",
            "Original Entities:\n",
            "  brand: 'calumet' (positions 0:7)\n",
            "  quantity: 'pack of 24' (positions 36:46)\n",
            "  quantity: '7-ounce' (positions 23:30)\n",
            "  features_specifications: 'baking powder' (positions 8:21)\n",
            "\n",
            "Text: sunjel fume-free firespace gel fuel canister, pure gel, 24-pack\n",
            "Predicted entities:\n",
            "  brand: 'sunjel' (0:6)\n",
            "  features_specifications: 'fume-free' (7:16)\n",
            "  features_specifications: 'firespace gel fuel canister' (17:44)\n",
            "  features_specifications: 'pure gel' (46:54)\n",
            "  quantity: '24-pack' (56:63)\n",
            "Original Entities:\n",
            "  brand: 'sunjel' (positions 0:6)\n",
            "  quantity: '24-pack' (positions 56:63)\n",
            "  features_specifications: 'fume-free' (positions 7:16)\n",
            "  features_specifications: 'firespace gel fuel canister' (positions 17:44)\n",
            "  features_specifications: 'pure gel' (positions 46:54)\n",
            "\n",
            "Text: c2g 03168 value series mono rca audio cable, black 12 feet, 3.65 meters\n",
            "Predicted entities:\n",
            "  brand: 'c2g' (0:3)\n",
            "  features_specifications: '03168' (4:9)\n",
            "  features_specifications: 'value series' (10:22)\n",
            "  features_specifications: 'mono rca audio cable' (23:43)\n",
            "  color: 'black' (45:50)\n",
            "  dimensions: '12 feet' (51:58)\n",
            "  dimensions: '3.65 meters' (60:71)\n",
            "Original Entities:\n",
            "  brand: 'c2g' (positions 0:3)\n",
            "  color: 'black' (positions 45:50)\n",
            "  features_specifications: '03168' (positions 4:9)\n",
            "  features_specifications: 'value series' (positions 10:22)\n",
            "  features_specifications: 'mono rca audio cable' (positions 23:43)\n",
            "  dimensions: '12 feet' (positions 51:58)\n",
            "  dimensions: '3.65 meters' (positions 60:71)\n",
            "\n",
            "Text: kinetic color cast porcelain enameled cast iron 5-quart round dutch oven, red\n",
            "Predicted entities:\n",
            "  brand: 'kinetic' (0:7)\n",
            "  features_specifications: 'color' (8:13)\n",
            "  features_specifications: 'porcelain' (19:28)\n",
            "  features_specifications: 'enameled cast iron' (29:47)\n",
            "  quantity: '5-quart' (48:55)\n",
            "  features_specifications: 'round' (56:61)\n",
            "  features_specifications: 'dutch oven' (62:72)\n",
            "  color: 'red' (74:77)\n",
            "Original Entities:\n",
            "  brand: 'kinetic' (positions 0:7)\n",
            "  color: 'red' (positions 74:77)\n",
            "  quantity: '5-quart' (positions 48:55)\n",
            "  features_specifications: 'porcelain enameled cast iron' (positions 19:47)\n",
            "  features_specifications: 'round dutch oven' (positions 56:72)\n",
            "\n",
            "Text: biedermann clear glass pillar candle holder, set of 12\n",
            "Predicted entities:\n",
            "  brand: 'biedermann clear' (0:16)\n",
            "  features_specifications: 'glass' (17:22)\n",
            "  features_specifications: 'pillar' (23:29)\n",
            "  features_specifications: 'set' (45:48)\n",
            "  quantity: '12' (52:54)\n",
            "Original Entities:\n",
            "  brand: 'biedermann' (positions 0:10)\n",
            "  color: 'clear' (positions 11:16)\n",
            "  quantity: '12' (positions 52:54)\n",
            "  features_specifications: 'glass' (positions 17:22)\n",
            "  features_specifications: 'pillar candle holder' (positions 23:43)\n",
            "  features_specifications: 'set' (positions 45:48)\n",
            "\n",
            "Text: fee brothers mint bitters 5oz\n",
            "Predicted entities:\n",
            "  brand: 'fee brothers mint' (0:17)\n",
            "  quantity: '5oz' (26:29)\n",
            "Original Entities:\n",
            "  brand: 'fee brothers' (positions 0:12)\n",
            "  quantity: '5oz' (positions 26:29)\n",
            "  features_specifications: 'mint' (positions 13:17)\n",
            "\n",
            "Text: bienfang bristol 9-inch by 12-inch paper pad, smooth surface, 20 sheets\n",
            "Predicted entities:\n",
            "  brand: 'bienfang' (0:8)\n",
            "  features_specifications: 'bristol' (9:16)\n",
            "  quantity: '9-inch by 12-inch' (17:34)\n",
            "  features_specifications: 'paper pad' (35:44)\n",
            "  quantity: '20 sheets' (62:71)\n",
            "Original Entities:\n",
            "  brand: 'bienfang' (positions 0:8)\n",
            "  quantity: '20 sheets' (positions 62:71)\n",
            "  quantity: '9-inch by 12-inch' (positions 17:34)\n",
            "  features_specifications: 'paper' (positions 35:40)\n",
            "  features_specifications: 'smooth surface' (positions 46:60)\n"
          ]
        }
      ]
    },
    {
      "cell_type": "markdown",
      "source": [
        "## Some good predictions\n"
      ],
      "metadata": {
        "id": "FpoF0AHUVnYa"
      }
    },
    {
      "cell_type": "code",
      "source": [
        "# Text: sunjel fume-free firespace gel fuel canister, pure gel, 24-pack\n",
        "# Predicted entities:\n",
        "#   brand: 'sunjel' (0:6)\n",
        "#   features_specifications: 'fume-free' (7:16)\n",
        "#   features_specifications: 'firespace gel fuel canister' (17:44)\n",
        "#   features_specifications: 'pure gel' (46:54)\n",
        "#   quantity: '24-pack' (56:63)\n",
        "# Original Entities:\n",
        "#   brand: 'sunjel' (positions 0:6)\n",
        "#   quantity: '24-pack' (positions 56:63)\n",
        "#   features_specifications: 'fume-free' (positions 7:16)\n",
        "#   features_specifications: 'firespace gel fuel canister' (positions 17:44)\n",
        "#   features_specifications: 'pure gel' (positions 46:54)\n",
        "\n",
        "\n",
        "# Text: cascadian farm organic sweet corn, 16oz bag frozen, organically farmed frozen vegetables, non-gmo\n",
        "# Predicted entities:\n",
        "#   brand: 'cascadian farm' (0:14)\n",
        "#   features_specifications: 'organic' (15:22)\n",
        "#   features_specifications: 'sweet corn' (23:33)\n",
        "#   quantity: '16oz bag' (35:43)\n",
        "#   features_specifications: 'frozen' (44:50)\n",
        "#   features_specifications: 'organically farmed' (52:70)\n",
        "#   features_specifications: 'frozen vegetables' (71:88)\n",
        "#   features_specifications: 'non-gmo' (90:97)\n",
        "# Original Entities:\n",
        "#   brand: 'cascadian farm' (positions 0:14)\n",
        "#   quantity: '16oz bag' (positions 35:43)\n",
        "#   features_specifications: 'organic' (positions 15:22)\n",
        "#   features_specifications: 'sweet corn' (positions 23:33)\n",
        "#   features_specifications: 'frozen' (positions 44:50)\n",
        "#   features_specifications: 'organically farmed' (positions 52:70)\n",
        "#   features_specifications: 'frozen vegetables' (positions 71:88)\n",
        "#   features_specifications: 'non-gmo' (positions 90:97)\n",
        "\n",
        "# ext: american metalcraft bnbb13202 rectangular birdnest wire basket, black\n",
        "# Predicted entities:\n",
        "#   brand: 'american metalcraft' (0:19)\n",
        "#   features_specifications: 'rectangular' (30:41)\n",
        "#   features_specifications: 'birdnest' (42:50)\n",
        "#   features_specifications: 'wire basket' (51:62)\n",
        "#   color: 'black' (64:69)\n",
        "# Original Entities:\n",
        "#   brand: 'american metalcraft' (positions 0:19)\n",
        "#   color: 'black' (positions 64:69)\n",
        "#   features_specifications: 'bnbb13202' (positions 20:29)\n",
        "#   features_specifications: 'rectangular' (positions 30:41)\n",
        "#   features_specifications: 'birdnest' (positions 42:50)\n",
        "#   features_specifications: 'wire basket' (positions 51:62)\n"
      ],
      "metadata": {
        "id": "uTuG65sBVPeV"
      },
      "execution_count": null,
      "outputs": []
    },
    {
      "cell_type": "markdown",
      "source": [
        "### Needs improvement"
      ],
      "metadata": {
        "id": "kfojvvHRWCyQ"
      }
    },
    {
      "cell_type": "code",
      "source": [
        "# Text: disney baby girls' frozen swimsuit\n",
        "# Predicted entities:\n",
        "#   brand: 'disney' (0:6)\n",
        "#   features_specifications: 'baby' (7:11)\n",
        "#   quantity: 'girls'' (12:18)\n",
        "#   features_specifications: 'frozen' (19:25)\n",
        "#   features_specifications: 'swimsuit' (26:34)\n",
        "# Original Entities:\n",
        "#   brand: 'disney' (positions 0:6)\n",
        "#   gender: 'girls' (positions 12:17)\n",
        "#   features_specifications: 'baby' (positions 7:11)\n",
        "#   features_specifications: 'frozen' (positions 19:25)\n",
        "#   features_specifications: 'swimsuit' (positions 26:34)\n",
        "\n",
        "\n",
        "# Text: metaltex usa inc. econo dryer, white, 32-inch\n",
        "# Predicted entities:\n",
        "#   brand: 'metaltex usa' (0:12)\n",
        "#   features_specifications: 'inc. econo' (13:23)\n",
        "#   color: 'white' (31:36)\n",
        "#   quantity: '32-inch' (38:45)\n",
        "# Original Entities:\n",
        "#   brand: 'metaltex usa' (positions 0:12)\n",
        "#   color: 'white' (positions 31:36)\n",
        "#   features_specifications: 'econo dryer' (positions 18:29)\n",
        "#   dimensions: '32-inch' (positions 38:45)"
      ],
      "metadata": {
        "id": "mx8V-C-jWIAK"
      },
      "execution_count": null,
      "outputs": []
    },
    {
      "cell_type": "markdown",
      "source": [
        "The model is getting confused between the quantities and dimensions attribute"
      ],
      "metadata": {
        "id": "0qOUclKKWbmY"
      }
    },
    {
      "cell_type": "markdown",
      "source": [
        "##### Evaluating the model\n",
        "\n",
        "Lets take the entity text and labels from the original entities and predicted entities. And calculate metrics for each entity(lable)."
      ],
      "metadata": {
        "id": "ClWSFpRYC-iQ"
      }
    },
    {
      "cell_type": "code",
      "source": [
        "def evaluate_ner_from_df(test_df, nlp_product_ner_model):\n",
        "\n",
        "    entity_types = set()\n",
        "    all_true = defaultdict(list)\n",
        "    all_pred = defaultdict(list)\n",
        "\n",
        "    for _, row in test_df.iterrows():\n",
        "\n",
        "        doc = nlp_product_ner_model(preprocess_text(row['title']))\n",
        "        predicted_entities = [(ent.start_char, ent.end_char, ent.label_) for ent in doc.ents]\n",
        "        ground_truth_entities = row['ner_entities']\n",
        "\n",
        "        for start, end, label in ground_truth_entities:\n",
        "            entity_text = row['title'][start:end]\n",
        "            all_true[label].append(entity_text)\n",
        "            entity_types.add(label)\n",
        "\n",
        "        for start, end, label in predicted_entities:\n",
        "            entity_text = row['title'][start:end]\n",
        "            all_pred[label].append(entity_text)\n",
        "            entity_types.add(label)\n",
        "\n",
        "    metrics = {}\n",
        "    overall_true = []\n",
        "    overall_pred = []\n",
        "\n",
        "    for entity_type in entity_types:\n",
        "        true_labels = all_true[entity_type]\n",
        "        pred_labels = all_pred[entity_type]\n",
        "\n",
        "        overall_true.extend(true_labels)\n",
        "        overall_pred.extend(pred_labels)\n",
        "\n",
        "        y_true = [1 if label in true_labels else 0 for label in true_labels + pred_labels]\n",
        "        y_pred = [1 if label in pred_labels else 0 for label in true_labels + pred_labels]\n",
        "\n",
        "        precision, recall, f1, _ = precision_recall_fscore_support(\n",
        "            y_true=y_true,\n",
        "            y_pred=y_pred,\n",
        "            average=\"binary\",\n",
        "            zero_division=0\n",
        "        )\n",
        "\n",
        "        metrics[entity_type] = {\n",
        "            \"precision\": precision,\n",
        "            \"recall\": recall,\n",
        "            \"f1\": f1\n",
        "        }\n",
        "\n",
        "    y_true_overall = [1 if label in overall_true else 0 for label in overall_true + overall_pred]\n",
        "    y_pred_overall = [1 if label in overall_pred else 0 for label in overall_true + overall_pred]\n",
        "\n",
        "    overall_precision, overall_recall, overall_f1, _ = precision_recall_fscore_support(\n",
        "        y_true=y_true_overall,\n",
        "        y_pred=y_pred_overall,\n",
        "        average=\"binary\",\n",
        "        zero_division=0\n",
        "    )\n",
        "\n",
        "    metrics[\"overall\"] = {\n",
        "        \"precision\": overall_precision,\n",
        "        \"recall\": overall_recall,\n",
        "        \"f1\": overall_f1\n",
        "    }\n",
        "\n",
        "    return metrics"
      ],
      "metadata": {
        "id": "rBJuwEn8DB_U"
      },
      "execution_count": 21,
      "outputs": []
    },
    {
      "cell_type": "code",
      "source": [
        "metrics = evaluate_ner_from_df(test_product_ner_data, nlp_product_ner_model)\n",
        "metrics # new"
      ],
      "metadata": {
        "colab": {
          "base_uri": "https://localhost:8080/"
        },
        "id": "MJLTGYj4LhQ2",
        "outputId": "3df36e5d-efda-45ac-f0dd-680e5cfbc799"
      },
      "execution_count": 22,
      "outputs": [
        {
          "output_type": "execute_result",
          "data": {
            "text/plain": [
              "{'brand': {'precision': 0.7936507936507936,\n",
              "  'recall': 0.8333333333333334,\n",
              "  'f1': 0.8130081300813008},\n",
              " 'quantity': {'precision': 0.82,\n",
              "  'recall': 0.8723404255319149,\n",
              "  'f1': 0.845360824742268},\n",
              " 'color': {'precision': 0.9117647058823529,\n",
              "  'recall': 0.96875,\n",
              "  'f1': 0.9393939393939394},\n",
              " 'gender': {'precision': 1.0, 'recall': 1.0, 'f1': 1.0},\n",
              " 'dimensions': {'precision': 1.0, 'recall': 1.0, 'f1': 1.0},\n",
              " 'features_specifications': {'precision': 0.6299212598425197,\n",
              "  'recall': 0.6349206349206349,\n",
              "  'f1': 0.6324110671936759},\n",
              " 'overall': {'precision': 0.7859531772575251,\n",
              "  'recall': 0.8075601374570447,\n",
              "  'f1': 0.7966101694915254}}"
            ]
          },
          "metadata": {},
          "execution_count": 22
        }
      ]
    },
    {
      "cell_type": "code",
      "source": [
        "metrics = evaluate_ner_from_df(test_product_ner_data, nlp_product_ner_model)\n",
        "metrics # wo upsampling"
      ],
      "metadata": {
        "colab": {
          "base_uri": "https://localhost:8080/"
        },
        "id": "HcwTHFBCRB-Y",
        "outputId": "04b24869-4427-4cef-c378-3cc580106e6b"
      },
      "execution_count": null,
      "outputs": [
        {
          "output_type": "execute_result",
          "data": {
            "text/plain": [
              "{'color': {'precision': 0.9047619047619048,\n",
              "  'recall': 0.8260869565217391,\n",
              "  'f1': 0.8636363636363636},\n",
              " 'gender': {'precision': 0.0, 'recall': 0.0, 'f1': 0.0},\n",
              " 'quantity': {'precision': 0.7,\n",
              "  'recall': 0.9032258064516129,\n",
              "  'f1': 0.7887323943661971},\n",
              " 'features_specifications': {'precision': 0.7,\n",
              "  'recall': 0.5986842105263158,\n",
              "  'f1': 0.6453900709219859},\n",
              " 'brand': {'precision': 0.7777777777777778,\n",
              "  'recall': 0.7636363636363637,\n",
              "  'f1': 0.7706422018348624},\n",
              " 'dimensions': {'precision': 0.0, 'recall': 0.0, 'f1': 0.0},\n",
              " 'overall': {'precision': 0.7843137254901961,\n",
              "  'recall': 0.7220216606498195,\n",
              "  'f1': 0.7518796992481203}}"
            ]
          },
          "metadata": {},
          "execution_count": 46
        }
      ]
    },
    {
      "cell_type": "code",
      "source": [
        "# metric-> wrongly marked"
      ],
      "metadata": {
        "id": "5pSSRZv174Bo"
      },
      "execution_count": 24,
      "outputs": []
    },
    {
      "cell_type": "markdown",
      "source": [
        "### Results:\n",
        "The model is performing good overall\n"
      ],
      "metadata": {
        "id": "8CX7nn0lDumC"
      }
    },
    {
      "cell_type": "markdown",
      "source": [
        "#### Saving model for Production"
      ],
      "metadata": {
        "id": "hbyevqp5C5MJ"
      }
    },
    {
      "cell_type": "code",
      "source": [
        "import shutil\n",
        "\n",
        "folder_path = '/content/product_ner_model'\n",
        "nlp_ner.to_disk(folder_path)\n",
        "\n",
        "# Zip the folder for downloading\n",
        "zip_file_path = '/content/Product_Name_NER_Model.zip'\n",
        "shutil.make_archive(zip_file_path.replace('.zip', ''), 'zip', folder_path)"
      ],
      "metadata": {
        "colab": {
          "base_uri": "https://localhost:8080/",
          "height": 35
        },
        "id": "4lHvjWxyC3xm",
        "outputId": "510bf35e-58a7-4acb-8ed2-05aa6734d67a"
      },
      "execution_count": 23,
      "outputs": [
        {
          "output_type": "execute_result",
          "data": {
            "text/plain": [
              "'/content/Product_Name_NER_Model.zip'"
            ],
            "application/vnd.google.colaboratory.intrinsic+json": {
              "type": "string"
            }
          },
          "metadata": {},
          "execution_count": 23
        }
      ]
    },
    {
      "cell_type": "code",
      "source": [],
      "metadata": {
        "id": "EpA5ALdpKXOh"
      },
      "execution_count": null,
      "outputs": []
    }
  ]
}